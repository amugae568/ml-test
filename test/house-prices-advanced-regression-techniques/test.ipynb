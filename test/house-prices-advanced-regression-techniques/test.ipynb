{
 "cells": [
  {
   "cell_type": "code",
   "execution_count": 40,
   "metadata": {},
   "outputs": [],
   "source": [
    "import pandas as pd\n",
    "import matplotlib.pyplot as plt\n",
    "import seaborn as sns\n",
    "import numpy as np\n",
    "\n",
    "from sklearn.preprocessing import OneHotEncoder"
   ]
  },
  {
   "cell_type": "code",
   "execution_count": 58,
   "metadata": {},
   "outputs": [],
   "source": [
    "pd.set_option(\"display.max_columns\", 30)\n",
    "pd.set_option(\"display.max_rows\", 30)"
   ]
  },
  {
   "cell_type": "code",
   "execution_count": 2,
   "metadata": {},
   "outputs": [],
   "source": [
    "train = pd.read_csv('train.csv')\n",
    "test = pd.read_csv('test.csv')"
   ]
  },
  {
   "cell_type": "code",
   "execution_count": 3,
   "metadata": {},
   "outputs": [],
   "source": [
    "train = train.drop(columns=['Id'])"
   ]
  },
  {
   "cell_type": "code",
   "execution_count": 49,
   "metadata": {},
   "outputs": [
    {
     "data": {
      "text/plain": [
       "1460"
      ]
     },
     "execution_count": 49,
     "metadata": {},
     "output_type": "execute_result"
    }
   ],
   "source": [
    "len(train)"
   ]
  },
  {
   "cell_type": "code",
   "execution_count": 53,
   "metadata": {},
   "outputs": [
    {
     "data": {
      "text/plain": [
       "0"
      ]
     },
     "execution_count": 53,
     "metadata": {},
     "output_type": "execute_result"
    }
   ],
   "source": [
    "train['MSSubClass'].isna().sum()"
   ]
  },
  {
   "cell_type": "code",
   "execution_count": 55,
   "metadata": {},
   "outputs": [],
   "source": [
    "null_cols = [col for col in train.columns if train[col].isna().sum() > len(train)*0.7]"
   ]
  },
  {
   "cell_type": "code",
   "execution_count": 78,
   "metadata": {},
   "outputs": [],
   "source": [
    "obj_cols = [col for col in train.columns if train[col].dtype == 'object']"
   ]
  },
  {
   "cell_type": "code",
   "execution_count": 82,
   "metadata": {},
   "outputs": [],
   "source": [
    "train_dummies = pd.get_dummies(train, columns = obj_cols)"
   ]
  },
  {
   "cell_type": "code",
   "execution_count": 85,
   "metadata": {},
   "outputs": [],
   "source": [
    "unique_cols = [col for col in train.columns if train[col].nunique() == 1]"
   ]
  },
  {
   "cell_type": "code",
   "execution_count": 112,
   "metadata": {},
   "outputs": [
    {
     "data": {
      "text/plain": [
       "OverallQual         1.000000\n",
       "new                 0.810165\n",
       "SalePrice           0.790982\n",
       "ExterQual_TA        0.646247\n",
       "GarageCars          0.600671\n",
       "GrLivArea           0.593007\n",
       "YearBuilt           0.572323\n",
       "Foundation_PConc    0.568211\n",
       "GarageArea          0.562022\n",
       "KitchenQual_TA      0.553891\n",
       "YearRemodAdd        0.550684\n",
       "FullBath            0.550600\n",
       "GarageYrBlt         0.547766\n",
       "ExterQual_Gd        0.547731\n",
       "TotalBsmtSF         0.537808\n",
       "BsmtQual_TA         0.497957\n",
       "1stFlrSF            0.476224\n",
       "BsmtQual_Ex         0.470780\n",
       "HeatingQC_Ex        0.458225\n",
       "BsmtFinType1_GLQ    0.433448\n",
       "Name: OverallQual, dtype: float64"
      ]
     },
     "execution_count": 112,
     "metadata": {},
     "output_type": "execute_result"
    }
   ],
   "source": [
    "col = 'OverallQual'\n",
    "abs(train_dummies.set_index(col).reset_index().corr()).sort_values(by=col,ascending= False)[col].head(20)"
   ]
  },
  {
   "cell_type": "code",
   "execution_count": 109,
   "metadata": {},
   "outputs": [
    {
     "data": {
      "text/plain": [
       "864     22\n",
       "1040    14\n",
       "894     11\n",
       "1456    10\n",
       "848     10\n",
       "        ..\n",
       "2296     1\n",
       "1123     1\n",
       "1199     1\n",
       "1473     1\n",
       "1256     1\n",
       "Name: GrLivArea, Length: 861, dtype: int64"
      ]
     },
     "execution_count": 109,
     "metadata": {},
     "output_type": "execute_result"
    }
   ],
   "source": [
    "train_dummies['GrLivArea'].value_counts(0)"
   ]
  },
  {
   "cell_type": "code",
   "execution_count": 110,
   "metadata": {},
   "outputs": [],
   "source": [
    "train_dummies['new'] = train_dummies['GrLivArea'] * train_dummies['OverallQual']"
   ]
  },
  {
   "cell_type": "code",
   "execution_count": 111,
   "metadata": {},
   "outputs": [
    {
     "data": {
      "text/plain": [
       "SalePrice           1.000000\n",
       "new                 0.832057\n",
       "OverallQual         0.790982\n",
       "GrLivArea           0.708624\n",
       "GarageCars          0.640409\n",
       "GarageArea          0.623431\n",
       "TotalBsmtSF         0.613581\n",
       "1stFlrSF            0.605852\n",
       "ExterQual_TA        0.589044\n",
       "FullBath            0.560664\n",
       "BsmtQual_Ex         0.553105\n",
       "TotRmsAbvGrd        0.533723\n",
       "YearBuilt           0.522897\n",
       "KitchenQual_TA      0.519298\n",
       "YearRemodAdd        0.507101\n",
       "KitchenQual_Ex      0.504094\n",
       "Foundation_PConc    0.497734\n",
       "GarageYrBlt         0.486362\n",
       "MasVnrArea          0.477493\n",
       "Fireplaces          0.466929\n",
       "Name: SalePrice, dtype: float64"
      ]
     },
     "execution_count": 111,
     "metadata": {},
     "output_type": "execute_result"
    }
   ],
   "source": [
    "col = 'SalePrice'\n",
    "abs(train_dummies.set_index(col).reset_index().corr()).sort_values(by=col,ascending= False)[col].head(20)"
   ]
  },
  {
   "cell_type": "code",
   "execution_count": 97,
   "metadata": {},
   "outputs": [
    {
     "data": {
      "text/plain": [
       "SalePrice           1.000000\n",
       "OverallQual         0.790982\n",
       "GrLivArea           0.708624\n",
       "GarageCars          0.640409\n",
       "GarageArea          0.623431\n",
       "TotalBsmtSF         0.613581\n",
       "1stFlrSF            0.605852\n",
       "ExterQual_TA        0.589044\n",
       "FullBath            0.560664\n",
       "BsmtQual_Ex         0.553105\n",
       "TotRmsAbvGrd        0.533723\n",
       "YearBuilt           0.522897\n",
       "KitchenQual_TA      0.519298\n",
       "YearRemodAdd        0.507101\n",
       "KitchenQual_Ex      0.504094\n",
       "Foundation_PConc    0.497734\n",
       "GarageYrBlt         0.486362\n",
       "MasVnrArea          0.477493\n",
       "Fireplaces          0.466929\n",
       "ExterQual_Gd        0.452466\n",
       "Name: SalePrice, dtype: float64"
      ]
     },
     "execution_count": 97,
     "metadata": {},
     "output_type": "execute_result"
    }
   ],
   "source": [
    "abs(train_dummies.set_index('SalePrice').reset_index().corr()).sort_values(by='SalePrice',ascending= False)['SalePrice'].head(20)"
   ]
  },
  {
   "attachments": {},
   "cell_type": "markdown",
   "metadata": {},
   "source": [
    "abs(train_dummies.set_index('SalePrice').reset_index().corr()).sort_values(by='SalePrice',ascending= False)"
   ]
  },
  {
   "cell_type": "code",
   "execution_count": 45,
   "metadata": {},
   "outputs": [],
   "source": [
    "houseStyle = train['HouseStyle']\n"
   ]
  },
  {
   "cell_type": "code",
   "execution_count": null,
   "metadata": {},
   "outputs": [],
   "source": [
    "cat_encoder = OneHotEncoder()"
   ]
  },
  {
   "cell_type": "code",
   "execution_count": 39,
   "metadata": {},
   "outputs": [
    {
     "data": {
      "text/plain": [
       "SFoyer    37\n",
       "Name: HouseStyle, dtype: int64"
      ]
     },
     "execution_count": 39,
     "metadata": {},
     "output_type": "execute_result"
    }
   ],
   "source": [
    "train.loc[\n",
    "    (train['HouseStyle'] == 'SFoyer'),\n",
    "    ['MSSubClass', 'HouseStyle', 'YearBuilt']]['HouseStyle'].value_counts()"
   ]
  },
  {
   "cell_type": "code",
   "execution_count": null,
   "metadata": {},
   "outputs": [],
   "source": []
  },
  {
   "cell_type": "code",
   "execution_count": 7,
   "metadata": {},
   "outputs": [
    {
     "data": {
      "text/plain": [
       "<AxesSubplot: >"
      ]
     },
     "execution_count": 7,
     "metadata": {},
     "output_type": "execute_result"
    },
    {
     "data": {
      "image/png": "[encoded data removed]",
      "text/plain": [
       "<Figure size 640x480 with 1 Axes>"
      ]
     },
     "metadata": {},
     "output_type": "display_data"
    }
   ],
   "source": [
    "train.MSSubClass.value_counts().plot(kind='bar')"
   ]
  },
  {
   "cell_type": "code",
   "execution_count": 19,
   "metadata": {},
   "outputs": [
    {
     "data": {
      "image/png": "[encoded data removed]",
      "text/plain": [
       "<Figure size 800x600 with 1 Axes>"
      ]
     },
     "metadata": {},
     "output_type": "display_data"
    }
   ],
   "source": [
    "fig, ax = plt.subplots(1, figsize=(8, 6))\n",
    "sns.boxplot(x='SalePrice', y='Fence', data=train)\n",
    "plt.show()"
   ]
  },
  {
   "cell_type": "code",
   "execution_count": 22,
   "metadata": {},
   "outputs": [
    {
     "name": "stderr",
     "output_type": "stream",
     "text": [
      "C:\\Users\\D568\\AppData\\Local\\Temp\\ipykernel_12700\\2621799328.py:1: FutureWarning: The default value of numeric_only in DataFrame.corr is deprecated. In a future version, it will default to False. Select only valid columns or specify the value of numeric_only to silence this warning.\n",
      "  train.corr().abs().unstack()\n"
     ]
    },
    {
     "data": {
      "text/plain": [
       "Id         Id             1.000000\n",
       "           MSSubClass     0.011156\n",
       "           LotFrontage    0.010601\n",
       "           LotArea        0.033226\n",
       "           OverallQual    0.028365\n",
       "                            ...   \n",
       "SalePrice  PoolArea       0.092404\n",
       "           MiscVal        0.021190\n",
       "           MoSold         0.046432\n",
       "           YrSold         0.028923\n",
       "           SalePrice      1.000000\n",
       "Length: 1444, dtype: float64"
      ]
     },
     "execution_count": 22,
     "metadata": {},
     "output_type": "execute_result"
    }
   ],
   "source": [
    "train.corr().abs().unstack()"
   ]
  }
 ],
 "metadata": {
  "kernelspec": {
   "display_name": "ml",
   "language": "python",
   "name": "python3"
  },
  "language_info": {
   "codemirror_mode": {
    "name": "ipython",
    "version": 3
   },
   "file_extension": ".py",
   "mimetype": "text/x-python",
   "name": "python",
   "nbconvert_exporter": "python",
   "pygments_lexer": "ipython3",
   "version": "3.9.15"
  },
  "orig_nbformat": 4,
  "vscode": {
   "interpreter": {
    "hash": "d99db085c1b6fa038ba26401f1eed74618fe5233a12a797f9cf5f06f98ffca22"
   }
  }
 },
 "nbformat": 4,
 "nbformat_minor": 2
}
