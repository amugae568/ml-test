{
 "cells": [
  {
   "cell_type": "code",
   "execution_count": 1,
   "metadata": {},
   "outputs": [],
   "source": [
    "import cv2\n",
    "import os\n",
    "import numpy as np\n",
    "\n",
    "import tensorflow as tf\n",
    "from tensorflow import keras\n",
    "from tensorflow.keras.models import Sequential\n",
    "from sklearn.model_selection import train_test_split\n"
   ]
  },
  {
   "cell_type": "code",
   "execution_count": 2,
   "metadata": {},
   "outputs": [],
   "source": [
    "train_path = 'train'\n",
    "labels = os.listdir(train_path)\n",
    "X = []\n",
    "y = []\n",
    "for label in labels:\n",
    "    path = os.path.join(train_path, label)\n",
    "    image_names = os.listdir(path)\n",
    "\n",
    "    for image_name in image_names:\n",
    "        color_img = cv2.imread(os.path.join(path, image_name))\n",
    "        gray_img = cv2.cvtColor(color_img, cv2.COLOR_BGR2GRAY)\n",
    "        processed = cv2.normalize(gray_img, None, 0, 255, cv2.NORM_MINMAX)\n",
    "        img = np.concatenate([color_img, processed[:, :, np.newaxis]], axis=2)\n",
    "        X.append(img)\n",
    "        y.append(label)\n"
   ]
  },
  {
   "cell_type": "code",
   "execution_count": 3,
   "metadata": {},
   "outputs": [
    {
     "name": "stdout",
     "output_type": "stream",
     "text": [
      "451 451\n"
     ]
    }
   ],
   "source": [
    "print(len(X), len(y))"
   ]
  },
  {
   "cell_type": "code",
   "execution_count": 4,
   "metadata": {},
   "outputs": [],
   "source": [
    "X_train, X_valid, y_train, y_valid = train_test_split(X, y, test_size=0.1, random_state=568)"
   ]
  },
  {
   "cell_type": "code",
   "execution_count": 9,
   "metadata": {},
   "outputs": [],
   "source": [
    "def swish(x):\n",
    "    return x * tf.nn.sigmoid(x)\n",
    "\n",
    "\n",
    "class SEBlock(keras.layers.Layer):\n",
    "    def __init__(self, input_channels, ratio=0.25):\n",
    "        super(SEBlock, self).__init__()\n",
    "        self.num_reduced_filters = max(1, int(input_channels * ratio))\n",
    "        self.pool = keras.layers.GlobalAveragePooling2D()\n",
    "        self.reduced_conv = keras.layers.Conv2D(\n",
    "            filters=self.num_reduced_filters, kernel_size=(1, 1), strides=1, padding=\"same\")\n",
    "        self.expand_conv = keras.layers.Conv2D(\n",
    "            filters=input_channels, kernel_size=(1, 1), strides=1, padding=\"same\")\n",
    "\n",
    "    def call(self, inputs, **kargs):\n",
    "        branch = self.pool(inputs)\n",
    "        branch = tf.expand_dims(input=branch, axis=1)\n",
    "        branch = tf.expand_dims(input=branch, axis=1)\n",
    "        branch = self.reduced_conv(branch)\n",
    "        branch = swish(branch)\n",
    "        branch = self.expand_conv(branch)\n",
    "        branch = tf.nn.sigmoid(branch)\n",
    "        output = inputs * branch\n",
    "        return output\n"
   ]
  },
  {
   "cell_type": "code",
   "execution_count": null,
   "metadata": {},
   "outputs": [],
   "source": [
    "sebolock = SEBlock(3)\n",
    "tensor = tf.convert_to_tensor(np.zeros((1, 28, 28, 3)), dtype=tf.float32)\n",
    "sebolock(tensor)"
   ]
  },
  {
   "cell_type": "code",
   "execution_count": null,
   "metadata": {},
   "outputs": [],
   "source": [
    "class MBConv(keras.layers.Layer):\n",
    "    def __init__(self, in_channels, out_channels, expansion_factor, stride, k, drop_connect_rate):\n",
    "        super(MBConv, self).__init__()\n",
    "        self.in_channels = in_channels\n",
    "        self.out_channels = out_channels\n",
    "        self.stride = stride\n",
    "        self.dropout_connect_rate = drop_connect_rate\n",
    "        self.conv1 = keras.layers.Conv2D(\n",
    "            filters=in_channels * expansion_factor, kernel_size=(1, 1), stride=1, padding=\"same\")\n",
    "        self.bn1 = keras.layers.BatchNormalization()\n",
    "        self.dwconv = keras.layers.DepthwiseConv2D(\n",
    "            kernel_size=k, strides=stride, padding=\"same\")\n",
    "        self.bn2 = keras.layers.BatchNormalization()\n",
    "        self.se = SEBlock(in_channels * expansion_factor)\n",
    "        self.conv2 = keras.layers.Conv2D(\n",
    "            filters=out_channels, kernel_size=(1, 1), strides=1, padding=\"same\")\n",
    "        self.bn3 = keras.layers.BatchNormalization()\n",
    "        self.dropout = keras.layers.Dropout(rate=drop_connect_rate)\n",
    "\n",
    "    def call(self, inputs, training=None, **kargs):\n",
    "        x = self.conv1(inputs)\n",
    "        x = self.bn1(x, training=training)\n",
    "        x = swish(x)\n",
    "        x = self.dwconv(x)\n",
    "        x = self.bn2(x, training=training)\n",
    "        x = self.se(x)\n",
    "        x = swish(x)\n",
    "        x = self.conv2(x)\n",
    "        x = self.bn3(x, training=training)\n",
    "        if self.stride == 1 and self.in_channels == self.out_channels:\n",
    "            if self.dropout_connect_rate:\n",
    "                x = self.dropout(x, training=training)\n",
    "            x = keras.layers.add([x, inputs])\n",
    "        return x\n"
   ]
  },
  {
   "cell_type": "code",
   "execution_count": 36,
   "metadata": {},
   "outputs": [
    {
     "data": {
      "text/plain": [
       "(405, 46)"
      ]
     },
     "execution_count": 36,
     "metadata": {},
     "output_type": "execute_result"
    }
   ],
   "source": [
    "Sequential([\n",
    "    \n",
    "])"
   ]
  }
 ],
 "metadata": {
  "kernelspec": {
   "display_name": "ml",
   "language": "python",
   "name": "python3"
  },
  "language_info": {
   "codemirror_mode": {
    "name": "ipython",
    "version": 3
   },
   "file_extension": ".py",
   "mimetype": "text/x-python",
   "name": "python",
   "nbconvert_exporter": "python",
   "pygments_lexer": "ipython3",
   "version": "3.9.15"
  },
  "orig_nbformat": 4,
  "vscode": {
   "interpreter": {
    "hash": "d99db085c1b6fa038ba26401f1eed74618fe5233a12a797f9cf5f06f98ffca22"
   }
  }
 },
 "nbformat": 4,
 "nbformat_minor": 2
}
