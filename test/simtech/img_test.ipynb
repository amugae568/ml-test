{
 "cells": [
  {
   "cell_type": "code",
   "execution_count": 2,
   "metadata": {},
   "outputs": [
    {
     "ename": "ModuleNotFoundError",
     "evalue": "No module named 'cv2'",
     "output_type": "error",
     "traceback": [
      "\u001b[1;31m---------------------------------------------------------------------------\u001b[0m",
      "\u001b[1;31mModuleNotFoundError\u001b[0m                       Traceback (most recent call last)",
      "Cell \u001b[1;32mIn[2], line 1\u001b[0m\n\u001b[1;32m----> 1\u001b[0m \u001b[39mimport\u001b[39;00m \u001b[39mcv2\u001b[39;00m\n\u001b[0;32m      2\u001b[0m \u001b[39mimport\u001b[39;00m \u001b[39mos\u001b[39;00m\n\u001b[0;32m      3\u001b[0m \u001b[39mimport\u001b[39;00m \u001b[39mnumpy\u001b[39;00m \u001b[39mas\u001b[39;00m \u001b[39mnp\u001b[39;00m\n",
      "\u001b[1;31mModuleNotFoundError\u001b[0m: No module named 'cv2'"
     ]
    }
   ],
   "source": [
    "import cv2\n",
    "import os\n",
    "import numpy as np\n",
    "\n",
    "import tensorflow as tf\n",
    "import keras\n",
    "from tensorflow import keras\n",
    "from keras.models import Sequential\n",
    "from keras.layers import Conv2D, MaxPooling2D, InputLayer, Flatten, Dense\n",
    "from sklearn.model_selection import train_test_split\n",
    "\n",
    "from model import MBConv, SEBlock\n"
   ]
  },
  {
   "cell_type": "code",
   "execution_count": null,
   "metadata": {},
   "outputs": [
    {
     "data": {
      "text/plain": [
       "[PhysicalDevice(name='/physical_device:GPU:0', device_type='GPU')]"
      ]
     },
     "execution_count": 2,
     "metadata": {},
     "output_type": "execute_result"
    }
   ],
   "source": [
    "tf.config.list_physical_devices('GPU')"
   ]
  },
  {
   "cell_type": "code",
   "execution_count": null,
   "metadata": {},
   "outputs": [],
   "source": [
    "train_path = 'train'\n",
    "labels = os.listdir(train_path)\n",
    "X = []\n",
    "y = []\n",
    "for label in labels:\n",
    "    path = os.path.join(train_path, label)\n",
    "    image_names = os.listdir(path)\n",
    "\n",
    "    for image_name in image_names:\n",
    "        color_img = cv2.imread(os.path.join(path, image_name))\n",
    "        gray_img = cv2.cvtColor(color_img, cv2.COLOR_BGR2GRAY)\n",
    "        processed = cv2.normalize(gray_img, None, 0, 255, cv2.NORM_MINMAX)\n",
    "        img = np.concatenate([color_img, processed[:, :, np.newaxis]], axis=2)\n",
    "        X.append(img)\n",
    "        y.append(label)\n",
    "y = list(map(int, y))"
   ]
  },
  {
   "cell_type": "code",
   "execution_count": 23,
   "metadata": {},
   "outputs": [
    {
     "name": "stdout",
     "output_type": "stream",
     "text": [
      "451 451\n"
     ]
    }
   ],
   "source": [
    "print(len(X), len(y))"
   ]
  },
  {
   "cell_type": "code",
   "execution_count": 8,
   "metadata": {},
   "outputs": [
    {
     "data": {
      "text/plain": [
       "(250, 250, 4)"
      ]
     },
     "execution_count": 8,
     "metadata": {},
     "output_type": "execute_result"
    }
   ],
   "source": [
    "X[0].shape"
   ]
  },
  {
   "cell_type": "code",
   "execution_count": 24,
   "metadata": {},
   "outputs": [
    {
     "data": {
      "text/plain": [
       "TensorShape([451, 3])"
      ]
     },
     "execution_count": 24,
     "metadata": {},
     "output_type": "execute_result"
    }
   ],
   "source": [
    "one_hot = tf.one_hot(y, 3)\n",
    "one_hot.shape"
   ]
  },
  {
   "cell_type": "code",
   "execution_count": 6,
   "metadata": {},
   "outputs": [],
   "source": [
    "batch_size = 64"
   ]
  },
  {
   "cell_type": "code",
   "execution_count": 21,
   "metadata": {},
   "outputs": [
    {
     "ename": "TypeError",
     "evalue": "Only integers, slices (`:`), ellipsis (`...`), tf.newaxis (`None`) and scalar tf.int32/tf.int64 tensors are valid indices, got array([322, 439, 198,  45,  12, 269, 137, 318, 365,  11, 409, 242, 450,\n       411,  64, 264,  99, 449, 327, 288, 345, 296, 321, 354, 213,  75,\n       131,  43,   6,  28, 426, 370,  13, 111, 180, 243, 248, 375, 372,\n       185, 208, 319, 228, 419,  10, 362, 400, 220,  26, 315, 387, 206,\n       193, 323,  84, 309,  83, 393,  49, 112, 122,  35, 145, 233, 133,\n       100, 313, 151,  55, 286, 110, 114, 421, 271, 408, 305, 297, 200,\n       418,   3, 390,  31, 282, 440,  91, 134, 175, 363, 424,  81, 300,\n        93,  71,  95, 340,  70, 235, 116, 381, 171, 416, 268, 328, 234,\n       214, 236, 348, 189,  54, 261, 105, 405, 197, 285, 401, 164, 427,\n       161,  17, 325, 203,  98, 207, 266,  85, 256,  29,  59, 434, 446,\n        48, 265, 210,  60, 415, 199, 438,  88,  36, 357,  37,  25, 352,\n       389, 402,   7, 312,  74, 124, 379, 192, 378,  38, 107, 143, 310,\n       435, 267, 430, 431,  69, 412, 350,  23, 255, 254, 437, 196, 237,\n       146, 422, 383, 442, 141,   2, 162, 158,   1, 275, 135, 191,  50,\n       215, 125, 170,  30, 205, 216,  78, 194, 257, 274,  67,  73, 407,\n       428,   0,  65, 299, 366,   8, 263, 251, 136, 224, 444,  42, 330,\n       342, 376, 356, 414, 361,  39, 246,  21, 108, 304,  22, 291, 130,\n       432, 337, 371, 332, 392, 270,  89, 333, 204,  86, 186, 230, 380,\n       109, 239,  47, 303, 316, 188, 231, 283,  92,  79,  57,  15, 225,\n       374, 355, 154,   5, 240, 217, 298, 150, 443, 219, 176, 307, 120,\n        94,  51, 445, 336, 229, 276, 232, 123, 398, 292,   4, 201, 121,\n       314, 245,  20, 339, 187, 190, 202, 184, 388, 250, 351, 331, 385,\n        87, 359, 148, 104, 103, 166,  24,  56, 306, 308,  80, 142, 106,\n        63, 173, 364,  62, 221, 429, 238, 117, 249, 132,  44, 169, 326,\n       349, 404, 277, 147,  76, 447, 368,  19, 211, 334,  77, 289, 441,\n       159, 118, 160,  68,  40, 174, 212, 320, 410, 259, 341, 329, 290,\n       394, 183, 281, 149, 241,  96, 223, 311, 209, 293,  52,  90,  53,\n       360, 260, 139, 152, 433, 165, 391, 324, 144,   9, 423, 272,  41,\n       384, 113, 101, 448, 218,  34, 417,  27, 344, 280, 226, 397,  32,\n       129, 425,  61, 168, 403, 258,  16, 335, 294, 413, 181, 178, 253,\n        18, 346,  82, 167, 358, 140, 128, 179, 279, 395, 177, 222,  33,\n       102, 252])",
     "output_type": "error",
     "traceback": [
      "\u001b[1;31m---------------------------------------------------------------------------\u001b[0m",
      "\u001b[1;31mTypeError\u001b[0m                                 Traceback (most recent call last)",
      "Cell \u001b[1;32mIn[21], line 1\u001b[0m\n\u001b[1;32m----> 1\u001b[0m X_train, X_valid, y_train, y_valid \u001b[39m=\u001b[39m train_test_split(X, one_hot, test_size\u001b[39m=\u001b[39;49m\u001b[39m0.1\u001b[39;49m, random_state\u001b[39m=\u001b[39;49m\u001b[39m568\u001b[39;49m)\n",
      "File \u001b[1;32mc:\\Users\\D568\\anaconda3\\envs\\ml\\lib\\site-packages\\sklearn\\model_selection\\_split.py:2585\u001b[0m, in \u001b[0;36mtrain_test_split\u001b[1;34m(test_size, train_size, random_state, shuffle, stratify, *arrays)\u001b[0m\n\u001b[0;32m   2581\u001b[0m     cv \u001b[39m=\u001b[39m CVClass(test_size\u001b[39m=\u001b[39mn_test, train_size\u001b[39m=\u001b[39mn_train, random_state\u001b[39m=\u001b[39mrandom_state)\n\u001b[0;32m   2583\u001b[0m     train, test \u001b[39m=\u001b[39m \u001b[39mnext\u001b[39m(cv\u001b[39m.\u001b[39msplit(X\u001b[39m=\u001b[39marrays[\u001b[39m0\u001b[39m], y\u001b[39m=\u001b[39mstratify))\n\u001b[1;32m-> 2585\u001b[0m \u001b[39mreturn\u001b[39;00m \u001b[39mlist\u001b[39;49m(\n\u001b[0;32m   2586\u001b[0m     chain\u001b[39m.\u001b[39;49mfrom_iterable(\n\u001b[0;32m   2587\u001b[0m         (_safe_indexing(a, train), _safe_indexing(a, test)) \u001b[39mfor\u001b[39;49;00m a \u001b[39min\u001b[39;49;00m arrays\n\u001b[0;32m   2588\u001b[0m     )\n\u001b[0;32m   2589\u001b[0m )\n",
      "File \u001b[1;32mc:\\Users\\D568\\anaconda3\\envs\\ml\\lib\\site-packages\\sklearn\\model_selection\\_split.py:2587\u001b[0m, in \u001b[0;36m<genexpr>\u001b[1;34m(.0)\u001b[0m\n\u001b[0;32m   2581\u001b[0m     cv \u001b[39m=\u001b[39m CVClass(test_size\u001b[39m=\u001b[39mn_test, train_size\u001b[39m=\u001b[39mn_train, random_state\u001b[39m=\u001b[39mrandom_state)\n\u001b[0;32m   2583\u001b[0m     train, test \u001b[39m=\u001b[39m \u001b[39mnext\u001b[39m(cv\u001b[39m.\u001b[39msplit(X\u001b[39m=\u001b[39marrays[\u001b[39m0\u001b[39m], y\u001b[39m=\u001b[39mstratify))\n\u001b[0;32m   2585\u001b[0m \u001b[39mreturn\u001b[39;00m \u001b[39mlist\u001b[39m(\n\u001b[0;32m   2586\u001b[0m     chain\u001b[39m.\u001b[39mfrom_iterable(\n\u001b[1;32m-> 2587\u001b[0m         (_safe_indexing(a, train), _safe_indexing(a, test)) \u001b[39mfor\u001b[39;00m a \u001b[39min\u001b[39;00m arrays\n\u001b[0;32m   2588\u001b[0m     )\n\u001b[0;32m   2589\u001b[0m )\n",
      "File \u001b[1;32mc:\\Users\\D568\\anaconda3\\envs\\ml\\lib\\site-packages\\sklearn\\utils\\__init__.py:356\u001b[0m, in \u001b[0;36m_safe_indexing\u001b[1;34m(X, indices, axis)\u001b[0m\n\u001b[0;32m    354\u001b[0m     \u001b[39mreturn\u001b[39;00m _pandas_indexing(X, indices, indices_dtype, axis\u001b[39m=\u001b[39maxis)\n\u001b[0;32m    355\u001b[0m \u001b[39melif\u001b[39;00m \u001b[39mhasattr\u001b[39m(X, \u001b[39m\"\u001b[39m\u001b[39mshape\u001b[39m\u001b[39m\"\u001b[39m):\n\u001b[1;32m--> 356\u001b[0m     \u001b[39mreturn\u001b[39;00m _array_indexing(X, indices, indices_dtype, axis\u001b[39m=\u001b[39;49maxis)\n\u001b[0;32m    357\u001b[0m \u001b[39melse\u001b[39;00m:\n\u001b[0;32m    358\u001b[0m     \u001b[39mreturn\u001b[39;00m _list_indexing(X, indices, indices_dtype)\n",
      "File \u001b[1;32mc:\\Users\\D568\\anaconda3\\envs\\ml\\lib\\site-packages\\sklearn\\utils\\__init__.py:185\u001b[0m, in \u001b[0;36m_array_indexing\u001b[1;34m(array, key, key_dtype, axis)\u001b[0m\n\u001b[0;32m    183\u001b[0m \u001b[39mif\u001b[39;00m \u001b[39misinstance\u001b[39m(key, \u001b[39mtuple\u001b[39m):\n\u001b[0;32m    184\u001b[0m     key \u001b[39m=\u001b[39m \u001b[39mlist\u001b[39m(key)\n\u001b[1;32m--> 185\u001b[0m \u001b[39mreturn\u001b[39;00m array[key] \u001b[39mif\u001b[39;00m axis \u001b[39m==\u001b[39m \u001b[39m0\u001b[39m \u001b[39melse\u001b[39;00m array[:, key]\n",
      "File \u001b[1;32mc:\\Users\\D568\\anaconda3\\envs\\ml\\lib\\site-packages\\tensorflow\\python\\util\\traceback_utils.py:153\u001b[0m, in \u001b[0;36mfilter_traceback.<locals>.error_handler\u001b[1;34m(*args, **kwargs)\u001b[0m\n\u001b[0;32m    151\u001b[0m \u001b[39mexcept\u001b[39;00m \u001b[39mException\u001b[39;00m \u001b[39mas\u001b[39;00m e:\n\u001b[0;32m    152\u001b[0m   filtered_tb \u001b[39m=\u001b[39m _process_traceback_frames(e\u001b[39m.\u001b[39m__traceback__)\n\u001b[1;32m--> 153\u001b[0m   \u001b[39mraise\u001b[39;00m e\u001b[39m.\u001b[39mwith_traceback(filtered_tb) \u001b[39mfrom\u001b[39;00m \u001b[39mNone\u001b[39m\n\u001b[0;32m    154\u001b[0m \u001b[39mfinally\u001b[39;00m:\n\u001b[0;32m    155\u001b[0m   \u001b[39mdel\u001b[39;00m filtered_tb\n",
      "File \u001b[1;32mc:\\Users\\D568\\anaconda3\\envs\\ml\\lib\\site-packages\\tensorflow\\python\\ops\\array_ops.py:906\u001b[0m, in \u001b[0;36m_check_index\u001b[1;34m(idx)\u001b[0m\n\u001b[0;32m    901\u001b[0m dtype \u001b[39m=\u001b[39m \u001b[39mgetattr\u001b[39m(idx, \u001b[39m\"\u001b[39m\u001b[39mdtype\u001b[39m\u001b[39m\"\u001b[39m, \u001b[39mNone\u001b[39;00m)\n\u001b[0;32m    902\u001b[0m \u001b[39mif\u001b[39;00m (dtype \u001b[39mis\u001b[39;00m \u001b[39mNone\u001b[39;00m \u001b[39mor\u001b[39;00m dtypes\u001b[39m.\u001b[39mas_dtype(dtype) \u001b[39mnot\u001b[39;00m \u001b[39min\u001b[39;00m _SUPPORTED_SLICE_DTYPES \u001b[39mor\u001b[39;00m\n\u001b[0;32m    903\u001b[0m     idx\u001b[39m.\u001b[39mshape \u001b[39mand\u001b[39;00m \u001b[39mlen\u001b[39m(idx\u001b[39m.\u001b[39mshape) \u001b[39m==\u001b[39m \u001b[39m1\u001b[39m):\n\u001b[0;32m    904\u001b[0m   \u001b[39m# TODO(slebedev): IndexError seems more appropriate here, but it\u001b[39;00m\n\u001b[0;32m    905\u001b[0m   \u001b[39m# will break `_slice_helper` contract.\u001b[39;00m\n\u001b[1;32m--> 906\u001b[0m   \u001b[39mraise\u001b[39;00m \u001b[39mTypeError\u001b[39;00m(_SLICE_TYPE_ERROR \u001b[39m+\u001b[39m \u001b[39m\"\u001b[39m\u001b[39m, got \u001b[39m\u001b[39m{!r}\u001b[39;00m\u001b[39m\"\u001b[39m\u001b[39m.\u001b[39mformat(idx))\n",
      "\u001b[1;31mTypeError\u001b[0m: Only integers, slices (`:`), ellipsis (`...`), tf.newaxis (`None`) and scalar tf.int32/tf.int64 tensors are valid indices, got array([322, 439, 198,  45,  12, 269, 137, 318, 365,  11, 409, 242, 450,\n       411,  64, 264,  99, 449, 327, 288, 345, 296, 321, 354, 213,  75,\n       131,  43,   6,  28, 426, 370,  13, 111, 180, 243, 248, 375, 372,\n       185, 208, 319, 228, 419,  10, 362, 400, 220,  26, 315, 387, 206,\n       193, 323,  84, 309,  83, 393,  49, 112, 122,  35, 145, 233, 133,\n       100, 313, 151,  55, 286, 110, 114, 421, 271, 408, 305, 297, 200,\n       418,   3, 390,  31, 282, 440,  91, 134, 175, 363, 424,  81, 300,\n        93,  71,  95, 340,  70, 235, 116, 381, 171, 416, 268, 328, 234,\n       214, 236, 348, 189,  54, 261, 105, 405, 197, 285, 401, 164, 427,\n       161,  17, 325, 203,  98, 207, 266,  85, 256,  29,  59, 434, 446,\n        48, 265, 210,  60, 415, 199, 438,  88,  36, 357,  37,  25, 352,\n       389, 402,   7, 312,  74, 124, 379, 192, 378,  38, 107, 143, 310,\n       435, 267, 430, 431,  69, 412, 350,  23, 255, 254, 437, 196, 237,\n       146, 422, 383, 442, 141,   2, 162, 158,   1, 275, 135, 191,  50,\n       215, 125, 170,  30, 205, 216,  78, 194, 257, 274,  67,  73, 407,\n       428,   0,  65, 299, 366,   8, 263, 251, 136, 224, 444,  42, 330,\n       342, 376, 356, 414, 361,  39, 246,  21, 108, 304,  22, 291, 130,\n       432, 337, 371, 332, 392, 270,  89, 333, 204,  86, 186, 230, 380,\n       109, 239,  47, 303, 316, 188, 231, 283,  92,  79,  57,  15, 225,\n       374, 355, 154,   5, 240, 217, 298, 150, 443, 219, 176, 307, 120,\n        94,  51, 445, 336, 229, 276, 232, 123, 398, 292,   4, 201, 121,\n       314, 245,  20, 339, 187, 190, 202, 184, 388, 250, 351, 331, 385,\n        87, 359, 148, 104, 103, 166,  24,  56, 306, 308,  80, 142, 106,\n        63, 173, 364,  62, 221, 429, 238, 117, 249, 132,  44, 169, 326,\n       349, 404, 277, 147,  76, 447, 368,  19, 211, 334,  77, 289, 441,\n       159, 118, 160,  68,  40, 174, 212, 320, 410, 259, 341, 329, 290,\n       394, 183, 281, 149, 241,  96, 223, 311, 209, 293,  52,  90,  53,\n       360, 260, 139, 152, 433, 165, 391, 324, 144,   9, 423, 272,  41,\n       384, 113, 101, 448, 218,  34, 417,  27, 344, 280, 226, 397,  32,\n       129, 425,  61, 168, 403, 258,  16, 335, 294, 413, 181, 178, 253,\n        18, 346,  82, 167, 358, 140, 128, 179, 279, 395, 177, 222,  33,\n       102, 252])"
     ]
    }
   ],
   "source": [
    "X_train, X_valid, y_train, y_valid = train_test_split(X, one_hot, test_size=0.1, random_state=568)"
   ]
  },
  {
   "cell_type": "code",
   "execution_count": 11,
   "metadata": {},
   "outputs": [
    {
     "name": "stdout",
     "output_type": "stream",
     "text": [
      "Model: \"sequential\"\n",
      "_________________________________________________________________\n",
      " Layer (type)                Output Shape              Param #   \n",
      "=================================================================\n",
      " conv2d (Conv2D)             (None, 248, 248, 32)      1184      \n",
      "                                                                 \n",
      " max_pooling2d (MaxPooling2D  (None, 124, 124, 32)     0         \n",
      " )                                                               \n",
      "                                                                 \n",
      " conv2d_1 (Conv2D)           (None, 122, 122, 64)      18496     \n",
      "                                                                 \n",
      " max_pooling2d_1 (MaxPooling  (None, 61, 61, 64)       0         \n",
      " 2D)                                                             \n",
      "                                                                 \n",
      " conv2d_2 (Conv2D)           (None, 59, 59, 64)        36928     \n",
      "                                                                 \n",
      " max_pooling2d_2 (MaxPooling  (None, 29, 29, 64)       0         \n",
      " 2D)                                                             \n",
      "                                                                 \n",
      " flatten (Flatten)           (None, 53824)             0         \n",
      "                                                                 \n",
      " dense (Dense)               (None, 64)                3444800   \n",
      "                                                                 \n",
      " dense_1 (Dense)             (None, 3)                 195       \n",
      "                                                                 \n",
      "=================================================================\n",
      "Total params: 3,501,603\n",
      "Trainable params: 3,501,603\n",
      "Non-trainable params: 0\n",
      "_________________________________________________________________\n"
     ]
    }
   ],
   "source": [
    "model = Sequential([\n",
    "    Conv2D(32, (3, 3), activation=\"relu\", input_shape=(250, 250, 4)),\n",
    "    MaxPooling2D((2, 2)),\n",
    "    Conv2D(64, (3, 3), activation=\"relu\", input_shape=(250, 250, 4)),\n",
    "    MaxPooling2D((2, 2)),\n",
    "    Conv2D(64, (3, 3), activation=\"relu\", input_shape=(250, 250, 4)),\n",
    "    MaxPooling2D((2, 2)),\n",
    "    Flatten(),\n",
    "    Dense(64, activation='relu'),\n",
    "    Dense(3, activation='softmax')\n",
    "])\n",
    "\n",
    "model.summary()"
   ]
  },
  {
   "cell_type": "code",
   "execution_count": 13,
   "metadata": {},
   "outputs": [],
   "source": [
    "model.compile(optimizer='adam', loss=keras.losses.SparseCategoricalCrossentropy(\n",
    "    from_logits=True), metrics=['accuracy'])\n"
   ]
  },
  {
   "cell_type": "code",
   "execution_count": null,
   "metadata": {},
   "outputs": [],
   "source": [
    "history = model.fit()"
   ]
  }
 ],
 "metadata": {
  "kernelspec": {
   "display_name": "ml",
   "language": "python",
   "name": "python3"
  },
  "language_info": {
   "codemirror_mode": {
    "name": "ipython",
    "version": 3
   },
   "file_extension": ".py",
   "mimetype": "text/x-python",
   "name": "python",
   "nbconvert_exporter": "python",
   "pygments_lexer": "ipython3",
   "version": "3.9.16"
  },
  "orig_nbformat": 4,
  "vscode": {
   "interpreter": {
    "hash": "44c8ccf2b35db15f4a624bb5f386f40f7f4fe6d2c454e25a8ac4eb06ec84b707"
   }
  }
 },
 "nbformat": 4,
 "nbformat_minor": 2
}
